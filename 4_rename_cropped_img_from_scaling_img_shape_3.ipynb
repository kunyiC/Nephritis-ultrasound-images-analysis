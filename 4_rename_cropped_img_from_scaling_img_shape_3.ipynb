{
 "cells": [
  {
   "cell_type": "code",
   "execution_count": 1,
   "metadata": {},
   "outputs": [],
   "source": [
    "import os\n",
    "import pathlib\n",
    "from PIL import Image\n",
    "\n",
    "def check_if_file_exist(target_dir):\n",
    "    file = pathlib.Path(target_dir)\n",
    "    if file.exists():\n",
    "        print (\"File exist\")\n",
    "    else:\n",
    "        print (\"File not exist\")\n",
    "        os.makedirs(target_dir)"
   ]
  },
  {
   "cell_type": "code",
   "execution_count": 2,
   "metadata": {},
   "outputs": [],
   "source": [
    "def rename_by_adding_scaling_hw(\n",
    "    cropped_imgfile_dir, scaling_imgfile_dir):\n",
    "\n",
    "    cropped_img_names = os.listdir(cropped_imgfile_dir)\n",
    "    cropped_img_names = sorted(cropped_img_names)\n",
    "    cropped_img_dirs = [os.path.join(\n",
    "        cropped_imgfile_dir, name) for name in cropped_img_names]\n",
    "\n",
    "    scaling_img_names = os.listdir(scaling_imgfile_dir)\n",
    "    scaling_img_names = sorted(scaling_img_names)\n",
    "    scaling_img_dirs = [os.path.join(\n",
    "        scaling_imgfile_dir, name) for name in scaling_img_names]\n",
    "\n",
    "    for cropped_img, scaling_img, img_name in zip(\n",
    "        cropped_img_dirs, scaling_img_dirs, scaling_img_names):\n",
    "\n",
    "        scaling_img2 = Image.open(scaling_img)\n",
    "        img_w = scaling_img2.size[0]\n",
    "        img_h = scaling_img2.size[1]\n",
    "        w_name = '_w' + str(img_w)\n",
    "        h_name = '_h' + str(img_h)\n",
    "        img_name2 = img_name[0:-4]+ w_name+ h_name+ '.jpg'\n",
    "\n",
    "        cropped_img2 = Image.open(cropped_img)\n",
    "        cropped_img2.save(target_dir+ \"/\"+ img_name2)"
   ]
  },
  {
   "cell_type": "code",
   "execution_count": 3,
   "metadata": {},
   "outputs": [],
   "source": [
    "base_dir = '/home/ai03/_kunyi/pro_tasi/yolov5_5/datasets/'"
   ]
  },
  {
   "cell_type": "code",
   "execution_count": 4,
   "metadata": {},
   "outputs": [
    {
     "name": "stdout",
     "output_type": "stream",
     "text": [
      "File not exist\n"
     ]
    }
   ],
   "source": [
    "target_dir = base_dir + 'images/no_UB_crop_LlRl_LtRt_hw'\n",
    "check_if_file_exist(target_dir)\n",
    "cropped_imgfile_dir = base_dir + 'images/no_UB_crop'\n",
    "scaling_imgfile_dir = base_dir + 'images/rescale_LlRl_LtRt'\n",
    "# scaling_img_dir: get scaling shape"
   ]
  },
  {
   "cell_type": "code",
   "execution_count": 5,
   "metadata": {},
   "outputs": [],
   "source": [
    "rename_by_adding_scaling_hw(cropped_imgfile_dir, scaling_imgfile_dir)"
   ]
  },
  {
   "cell_type": "code",
   "execution_count": null,
   "metadata": {},
   "outputs": [],
   "source": []
  },
  {
   "cell_type": "code",
   "execution_count": null,
   "metadata": {},
   "outputs": [],
   "source": []
  },
  {
   "cell_type": "code",
   "execution_count": null,
   "metadata": {},
   "outputs": [],
   "source": []
  },
  {
   "cell_type": "code",
   "execution_count": null,
   "metadata": {},
   "outputs": [],
   "source": []
  },
  {
   "cell_type": "code",
   "execution_count": null,
   "metadata": {},
   "outputs": [],
   "source": []
  },
  {
   "cell_type": "code",
   "execution_count": null,
   "metadata": {},
   "outputs": [],
   "source": []
  }
 ],
 "metadata": {
  "kernelspec": {
   "display_name": "Python 3",
   "language": "python",
   "name": "python3"
  },
  "language_info": {
   "codemirror_mode": {
    "name": "ipython",
    "version": 3
   },
   "file_extension": ".py",
   "mimetype": "text/x-python",
   "name": "python",
   "nbconvert_exporter": "python",
   "pygments_lexer": "ipython3",
   "version": "3.7.4"
  }
 },
 "nbformat": 4,
 "nbformat_minor": 2
}
