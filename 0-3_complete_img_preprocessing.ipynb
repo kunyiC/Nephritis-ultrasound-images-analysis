{
 "cells": [
  {
   "cell_type": "code",
   "execution_count": 1,
   "metadata": {},
   "outputs": [],
   "source": [
    "import numpy as np\n",
    "from PIL import Image     \n",
    "from glob import glob\n",
    "import imageio"
   ]
  },
  {
   "cell_type": "code",
   "execution_count": 2,
   "metadata": {},
   "outputs": [],
   "source": [
    "import pathlib\n",
    "\n",
    "def check_if_file_exist(target_dir):\n",
    "    file = pathlib.Path(target_dir)\n",
    "    if file.exists():\n",
    "        print (\"File exist\")\n",
    "    else:\n",
    "        print (\"File not exist\")\n",
    "        os.makedirs(target_dir)"
   ]
  },
  {
   "cell_type": "code",
   "execution_count": 3,
   "metadata": {},
   "outputs": [],
   "source": [
    "def crop_center_square_and_resize(input_img):\n",
    "    #pil_img = Image.open(input_img)\n",
    "    pil_img = input_img\n",
    "    crop_width, crop_height = min(pil_img.size), min(pil_img.size)\n",
    "    img_width, img_height = pil_img.size\n",
    "    left = (img_width - crop_width) // 2\n",
    "    top = (img_height - crop_height) // 2\n",
    "    right = (img_width + crop_width) // 2\n",
    "    bottom = (img_height + crop_height) // 2\n",
    "    cropped_img = pil_img.crop((left, top, right, bottom))\n",
    "    resized_img = cropped_img.resize((640, 640))\n",
    "    return resized_img"
   ]
  },
  {
   "cell_type": "code",
   "execution_count": 4,
   "metadata": {},
   "outputs": [],
   "source": [
    "from PIL import ImageOps\n",
    "\n",
    "def fill_black(img): \n",
    "    #img = Image.open(img)\n",
    "    img_with_border = ImageOps.expand(img,border=100,fill='black')\n",
    "    #final_img = crop_center_square_and_resize(img_with_border)\n",
    "    return img_with_border"
   ]
  },
  {
   "cell_type": "code",
   "execution_count": 5,
   "metadata": {},
   "outputs": [],
   "source": [
    "import os\n",
    "def crop_and_resize_img(source_dir, target_dir):\n",
    "#     jpgdata = glob(os.path.join(source_dir+\"/\",\"*.tif\"))\n",
    "#     jpgdata = np.sort(jpgdata)\n",
    "    for img_name in os.listdir(source_dir):\n",
    "        img_dir = os.path.join(source_dir, img_name)\n",
    "        image = Image.open(img_dir)\n",
    "        filled_img = fill_black(image)\n",
    "        final_img = crop_center_square_and_resize(filled_img)\n",
    "        if final_img.mode in (\"RGBA\", \"P\"):\n",
    "            final_img = final_img.convert(\"RGB\")\n",
    "#         imageio.imwrite(target_dir+\"/resized_{}\".format(i)+\".jpg\", \n",
    "#                         final_img)\n",
    "        #final_img.save(target_dir+\"/\"+img_name+\".jpg\")\n",
    "        final_img.save(target_dir+\"/\"+img_name.replace(\"tif\", \"jpg\"))\n",
    "    print(\"image processing is finished\")"
   ]
  },
  {
   "cell_type": "code",
   "execution_count": 6,
   "metadata": {},
   "outputs": [],
   "source": [
    "base_dir = \"/home/ai03/_kunyi/pro_tasi/labelme1/\"\n",
    "source_dir = base_dir+\"dataset_no_UB\"\n",
    "target_dir = base_dir+\"dataset_no_UB_resized\""
   ]
  },
  {
   "cell_type": "code",
   "execution_count": 7,
   "metadata": {},
   "outputs": [
    {
     "name": "stdout",
     "output_type": "stream",
     "text": [
      "File not exist\n",
      "image processing is finished\n"
     ]
    }
   ],
   "source": [
    "check_if_file_exist(target_dir)\n",
    "crop_and_resize_img(source_dir, target_dir)"
   ]
  },
  {
   "cell_type": "code",
   "execution_count": 8,
   "metadata": {},
   "outputs": [],
   "source": [
    "## Example:\n",
    "# base_dir = \"D:/OneDrive - 亞洲大學[Asia University](1)/Research/CS\"\n",
    "# base_dir = base_dir + \"/pro_tasi/kidney/kidney_20200821T101308Z_001\"\n",
    "# base_dir = base_dir + \"/datasets/images\"\n",
    "# source_dir = base_dir + \"/val\"\n",
    "# target_dir = base_dir + \"/valv_resized\""
   ]
  },
  {
   "cell_type": "code",
   "execution_count": 9,
   "metadata": {},
   "outputs": [],
   "source": [
    "# crop_and_resize_img(source_dir, target_dir)"
   ]
  },
  {
   "cell_type": "code",
   "execution_count": null,
   "metadata": {},
   "outputs": [],
   "source": []
  }
 ],
 "metadata": {
  "kernelspec": {
   "display_name": "Python 3",
   "language": "python",
   "name": "python3"
  },
  "language_info": {
   "codemirror_mode": {
    "name": "ipython",
    "version": 3
   },
   "file_extension": ".py",
   "mimetype": "text/x-python",
   "name": "python",
   "nbconvert_exporter": "python",
   "pygments_lexer": "ipython3",
   "version": "3.7.4"
  }
 },
 "nbformat": 4,
 "nbformat_minor": 4
}
