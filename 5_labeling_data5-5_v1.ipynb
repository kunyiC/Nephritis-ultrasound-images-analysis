{
 "cells": [
  {
   "cell_type": "code",
   "execution_count": 8,
   "metadata": {},
   "outputs": [],
   "source": [
    "import pandas as pd\n",
    "import numpy as np"
   ]
  },
  {
   "cell_type": "code",
   "execution_count": 9,
   "metadata": {},
   "outputs": [],
   "source": [
    "p1 = '/home/ai03/_kunyi/pro_tasi/kidney_labeling_csv/'\n",
    "p1 = p1 + 'data5-5_20210723_0830.csv'\n",
    "pd1_1 = pd.read_csv(p1)"
   ]
  },
  {
   "cell_type": "code",
   "execution_count": 10,
   "metadata": {},
   "outputs": [
    {
     "data": {
      "text/html": [
       "<div>\n",
       "<style scoped>\n",
       "    .dataframe tbody tr th:only-of-type {\n",
       "        vertical-align: middle;\n",
       "    }\n",
       "\n",
       "    .dataframe tbody tr th {\n",
       "        vertical-align: top;\n",
       "    }\n",
       "\n",
       "    .dataframe thead th {\n",
       "        text-align: right;\n",
       "    }\n",
       "</style>\n",
       "<table border=\"1\" class=\"dataframe\">\n",
       "  <thead>\n",
       "    <tr style=\"text-align: right;\">\n",
       "      <th></th>\n",
       "      <th>ID</th>\n",
       "      <th>gender</th>\n",
       "      <th>birth</th>\n",
       "      <th>住院日</th>\n",
       "      <th>age</th>\n",
       "      <th>DMSA_APN</th>\n",
       "    </tr>\n",
       "  </thead>\n",
       "  <tbody>\n",
       "    <tr>\n",
       "      <td>0</td>\n",
       "      <td>14520507</td>\n",
       "      <td>F</td>\n",
       "      <td>2007/04/06</td>\n",
       "      <td>2011-05-12</td>\n",
       "      <td>4.101370</td>\n",
       "      <td>NaN</td>\n",
       "    </tr>\n",
       "    <tr>\n",
       "      <td>1</td>\n",
       "      <td>14539654</td>\n",
       "      <td>F</td>\n",
       "      <td>2009/03/14</td>\n",
       "      <td>2011-05-24</td>\n",
       "      <td>2.194521</td>\n",
       "      <td>NaN</td>\n",
       "    </tr>\n",
       "    <tr>\n",
       "      <td>2</td>\n",
       "      <td>14597232</td>\n",
       "      <td>F</td>\n",
       "      <td>2009/09/24</td>\n",
       "      <td>2011-06-28</td>\n",
       "      <td>1.758904</td>\n",
       "      <td>R</td>\n",
       "    </tr>\n",
       "    <tr>\n",
       "      <td>3</td>\n",
       "      <td>14588994</td>\n",
       "      <td>F</td>\n",
       "      <td>2010/07/25</td>\n",
       "      <td>2011-07-06</td>\n",
       "      <td>0.947945</td>\n",
       "      <td>B</td>\n",
       "    </tr>\n",
       "    <tr>\n",
       "      <td>4</td>\n",
       "      <td>14630358</td>\n",
       "      <td>M</td>\n",
       "      <td>2011/04/20</td>\n",
       "      <td>2011-07-18</td>\n",
       "      <td>0.243836</td>\n",
       "      <td>B</td>\n",
       "    </tr>\n",
       "  </tbody>\n",
       "</table>\n",
       "</div>"
      ],
      "text/plain": [
       "         ID gender       birth        住院日        age DMSA_APN\n",
       "0  14520507      F  2007/04/06  2011-05-12  4.101370      NaN\n",
       "1  14539654      F  2009/03/14  2011-05-24  2.194521      NaN\n",
       "2  14597232      F  2009/09/24  2011-06-28  1.758904        R\n",
       "3  14588994      F  2010/07/25  2011-07-06  0.947945        B\n",
       "4  14630358      M  2011/04/20  2011-07-18  0.243836        B"
      ]
     },
     "execution_count": 10,
     "metadata": {},
     "output_type": "execute_result"
    }
   ],
   "source": [
    "pd1_1.head()"
   ]
  },
  {
   "cell_type": "code",
   "execution_count": 11,
   "metadata": {},
   "outputs": [
    {
     "data": {
      "text/plain": [
       "415"
      ]
     },
     "execution_count": 11,
     "metadata": {},
     "output_type": "execute_result"
    }
   ],
   "source": [
    "pd1_cols1 = pd1_1.columns.tolist()\n",
    "pd1_cols2 = pd1_cols1[0:1] + pd1_cols1[5:6] \n",
    "pd1_2 = pd1_1[pd1_cols2]\n",
    "pd1_2.shape[0]"
   ]
  },
  {
   "cell_type": "code",
   "execution_count": 12,
   "metadata": {},
   "outputs": [
    {
     "data": {
      "text/html": [
       "<div>\n",
       "<style scoped>\n",
       "    .dataframe tbody tr th:only-of-type {\n",
       "        vertical-align: middle;\n",
       "    }\n",
       "\n",
       "    .dataframe tbody tr th {\n",
       "        vertical-align: top;\n",
       "    }\n",
       "\n",
       "    .dataframe thead th {\n",
       "        text-align: right;\n",
       "    }\n",
       "</style>\n",
       "<table border=\"1\" class=\"dataframe\">\n",
       "  <thead>\n",
       "    <tr style=\"text-align: right;\">\n",
       "      <th></th>\n",
       "      <th>ID</th>\n",
       "      <th>DMSA_APN</th>\n",
       "    </tr>\n",
       "  </thead>\n",
       "  <tbody>\n",
       "    <tr>\n",
       "      <td>0</td>\n",
       "      <td>14520507</td>\n",
       "      <td>NaN</td>\n",
       "    </tr>\n",
       "    <tr>\n",
       "      <td>1</td>\n",
       "      <td>14539654</td>\n",
       "      <td>NaN</td>\n",
       "    </tr>\n",
       "    <tr>\n",
       "      <td>2</td>\n",
       "      <td>14597232</td>\n",
       "      <td>R</td>\n",
       "    </tr>\n",
       "    <tr>\n",
       "      <td>3</td>\n",
       "      <td>14588994</td>\n",
       "      <td>B</td>\n",
       "    </tr>\n",
       "    <tr>\n",
       "      <td>4</td>\n",
       "      <td>14630358</td>\n",
       "      <td>B</td>\n",
       "    </tr>\n",
       "  </tbody>\n",
       "</table>\n",
       "</div>"
      ],
      "text/plain": [
       "         ID DMSA_APN\n",
       "0  14520507      NaN\n",
       "1  14539654      NaN\n",
       "2  14597232        R\n",
       "3  14588994        B\n",
       "4  14630358        B"
      ]
     },
     "execution_count": 12,
     "metadata": {},
     "output_type": "execute_result"
    }
   ],
   "source": [
    "pd1_2.head()"
   ]
  },
  {
   "cell_type": "code",
   "execution_count": 13,
   "metadata": {},
   "outputs": [
    {
     "data": {
      "text/plain": [
       "372"
      ]
     },
     "execution_count": 13,
     "metadata": {},
     "output_type": "execute_result"
    }
   ],
   "source": [
    "pd1_3 = pd1_2.dropna()\n",
    "pd1_3.shape[0]"
   ]
  },
  {
   "cell_type": "code",
   "execution_count": 14,
   "metadata": {},
   "outputs": [
    {
     "data": {
      "text/html": [
       "<div>\n",
       "<style scoped>\n",
       "    .dataframe tbody tr th:only-of-type {\n",
       "        vertical-align: middle;\n",
       "    }\n",
       "\n",
       "    .dataframe tbody tr th {\n",
       "        vertical-align: top;\n",
       "    }\n",
       "\n",
       "    .dataframe thead th {\n",
       "        text-align: right;\n",
       "    }\n",
       "</style>\n",
       "<table border=\"1\" class=\"dataframe\">\n",
       "  <thead>\n",
       "    <tr style=\"text-align: right;\">\n",
       "      <th></th>\n",
       "      <th>ID</th>\n",
       "      <th>DMSA_APN</th>\n",
       "    </tr>\n",
       "  </thead>\n",
       "  <tbody>\n",
       "    <tr>\n",
       "      <td>2</td>\n",
       "      <td>14597232</td>\n",
       "      <td>R</td>\n",
       "    </tr>\n",
       "    <tr>\n",
       "      <td>3</td>\n",
       "      <td>14588994</td>\n",
       "      <td>B</td>\n",
       "    </tr>\n",
       "    <tr>\n",
       "      <td>4</td>\n",
       "      <td>14630358</td>\n",
       "      <td>B</td>\n",
       "    </tr>\n",
       "    <tr>\n",
       "      <td>6</td>\n",
       "      <td>13200133</td>\n",
       "      <td>R</td>\n",
       "    </tr>\n",
       "    <tr>\n",
       "      <td>7</td>\n",
       "      <td>14648960</td>\n",
       "      <td>N</td>\n",
       "    </tr>\n",
       "  </tbody>\n",
       "</table>\n",
       "</div>"
      ],
      "text/plain": [
       "         ID DMSA_APN\n",
       "2  14597232        R\n",
       "3  14588994        B\n",
       "4  14630358        B\n",
       "6  13200133        R\n",
       "7  14648960        N"
      ]
     },
     "execution_count": 14,
     "metadata": {},
     "output_type": "execute_result"
    }
   ],
   "source": [
    "pd1_3.head()"
   ]
  },
  {
   "cell_type": "code",
   "execution_count": 15,
   "metadata": {},
   "outputs": [],
   "source": [
    "import os \n",
    "from PIL import Image \n",
    "import pathlib"
   ]
  },
  {
   "cell_type": "code",
   "execution_count": 16,
   "metadata": {},
   "outputs": [],
   "source": [
    "def check_if_file_exist(target_dir):\n",
    "    file = pathlib.Path(target_dir)\n",
    "    if file.exists():\n",
    "        print (\"File exist\")\n",
    "    else:\n",
    "        print (\"File not exist\")\n",
    "        os.makedirs(target_dir)"
   ]
  },
  {
   "cell_type": "code",
   "execution_count": 17,
   "metadata": {},
   "outputs": [],
   "source": [
    "def img_labeling(img_source_dir, target_dir):\n",
    "    files_list = os.listdir(img_source_dir)\n",
    "    files_dir = [os.path.join(\n",
    "        img_source_dir, name) for name in files_list]\n",
    "    for i in range(0, pd1_3.shape[0]):\n",
    "        h_id = pd1_3.iloc[i, 0]\n",
    "        apn = pd1_3.iloc[i, 1]\n",
    "\n",
    "        for img_file, img_name in zip(files_dir, files_list):\n",
    "            if str(h_id) == img_name[0:8]:\n",
    "                image = Image.open(img_file)\n",
    "\n",
    "                if apn == 'N':\n",
    "                    label = 0\n",
    "                    f_img_name = img_name[0:-4]+'[{}].jpg'.format(label)      \n",
    "\n",
    "                if apn == 'B':\n",
    "                    label = 1\n",
    "                    f_img_name = img_name[0:-4]+'[{}].jpg'.format(label)   \n",
    "\n",
    "                if apn == \"L\":\n",
    "                    if img_name[18:19] == 'R':\n",
    "                        label = 0\n",
    "                        f_img_name = img_name[0:-4]+'[{}].jpg'.format(label)      \n",
    "                    if img_name[18:19] == 'L':\n",
    "                        label = 1\n",
    "                        f_img_name = img_name[0:-4]+'[{}].jpg'.format(label)      \n",
    "\n",
    "                if apn == \"R\":\n",
    "                    if img_name[18:19] == 'R':\n",
    "                        label = 1\n",
    "                        f_img_name = img_name[0:-4]+'[{}].jpg'.format(label)      \n",
    "                    if img_name[18:19] == 'L':\n",
    "                        label = 0\n",
    "                        f_img_name = img_name[0:-4]+'[{}].jpg'.format(label)      \n",
    "\n",
    "                image.save(target_dir+\"/\"+f_img_name)"
   ]
  },
  {
   "cell_type": "code",
   "execution_count": 18,
   "metadata": {},
   "outputs": [],
   "source": [
    "base_dir = '/home/ai03/_kunyi/pro_tasi/yolov5_5/datasets/'"
   ]
  },
  {
   "cell_type": "code",
   "execution_count": 19,
   "metadata": {},
   "outputs": [
    {
     "name": "stdout",
     "output_type": "stream",
     "text": [
      "File not exist\n"
     ]
    }
   ],
   "source": [
    "img_source_dir = base_dir + \"images/no_UB_crop_LtRt_hw\"\n",
    "target_dir = base_dir + \"images/no_UB_crop_LtRt_hw_labeling\"\n",
    "check_if_file_exist(target_dir)\n",
    "img_labeling(img_source_dir, target_dir)"
   ]
  },
  {
   "cell_type": "code",
   "execution_count": 20,
   "metadata": {},
   "outputs": [
    {
     "name": "stdout",
     "output_type": "stream",
     "text": [
      "File not exist\n"
     ]
    }
   ],
   "source": [
    "img_source_dir = base_dir + \"images/no_UB_crop_LlRl_hw\"\n",
    "target_dir = base_dir + \"images/no_UB_crop_LlRl_hw_labeling\"\n",
    "check_if_file_exist(target_dir)\n",
    "img_labeling(img_source_dir, target_dir)"
   ]
  },
  {
   "cell_type": "code",
   "execution_count": null,
   "metadata": {},
   "outputs": [],
   "source": []
  },
  {
   "cell_type": "code",
   "execution_count": null,
   "metadata": {},
   "outputs": [],
   "source": []
  },
  {
   "cell_type": "code",
   "execution_count": null,
   "metadata": {},
   "outputs": [],
   "source": []
  },
  {
   "cell_type": "code",
   "execution_count": null,
   "metadata": {},
   "outputs": [],
   "source": []
  },
  {
   "cell_type": "code",
   "execution_count": null,
   "metadata": {},
   "outputs": [],
   "source": []
  }
 ],
 "metadata": {
  "kernelspec": {
   "display_name": "Python 3",
   "language": "python",
   "name": "python3"
  },
  "language_info": {
   "codemirror_mode": {
    "name": "ipython",
    "version": 3
   },
   "file_extension": ".py",
   "mimetype": "text/x-python",
   "name": "python",
   "nbconvert_exporter": "python",
   "pygments_lexer": "ipython3",
   "version": "3.7.4"
  }
 },
 "nbformat": 4,
 "nbformat_minor": 2
}
