{
 "cells": [
  {
   "cell_type": "code",
   "execution_count": 6,
   "metadata": {},
   "outputs": [],
   "source": [
    "import pathlib\n",
    "\n",
    "def check_if_file_exist(target_dir):\n",
    "    file = pathlib.Path(target_dir)\n",
    "    if file.exists():\n",
    "        print (\"File exist\")\n",
    "    else:\n",
    "        print (\"File not exist\")\n",
    "        os.makedirs(target_dir)"
   ]
  },
  {
   "cell_type": "code",
   "execution_count": 7,
   "metadata": {},
   "outputs": [],
   "source": [
    "def extract_coor(each_predicted_label, \n",
    "                 target_dir, img_name, img_file):\n",
    "    xcen = each_predicted_label[1]\n",
    "    ycen = each_predicted_label[2]\n",
    "    w = each_predicted_label[3]\n",
    "    h = each_predicted_label[4]\n",
    "    xmin = max(float(xcen) - float(w) / 2, 0)\n",
    "    xmax = min(float(xcen) + float(w) / 2, 1)\n",
    "    ymin = max(float(ycen) - float(h) / 2, 0)\n",
    "    ymax = min(float(ycen) + float(h) / 2, 1)\n",
    "    img_size_1 = 640\n",
    "    img_size_0 = 640\n",
    "#     img_size_1 = 960\n",
    "#     img_size_0 = 720\n",
    "    xmin = int(img_size_1 * xmin)\n",
    "    xmax = int(img_size_1 * xmax)\n",
    "    ymin = int(img_size_0 * ymin)\n",
    "    ymax = int(img_size_0 * ymax)\n",
    "    cropped_img1 = img_file.crop((xmin, ymin, xmax, ymax))\n",
    "    cropped_img1.save(target_dir+\"/\"+img_name)"
   ]
  },
  {
   "cell_type": "code",
   "execution_count": 8,
   "metadata": {},
   "outputs": [],
   "source": [
    "from numpy import loadtxt\n",
    "from PIL import Image\n",
    "import os\n",
    "\n",
    "def crop_img_from_prediction_txt(text_source_dir, \n",
    "                                 img_source_dir, target_dir):\n",
    "    check_if_file_exist(target_dir)\n",
    "    \n",
    "    text_files_list = os.listdir(text_source_dir)\n",
    "    text_files_list.remove('classes.txt')\n",
    "    text_files_list = sorted(text_files_list)\n",
    "    text_files_dir = [os.path.join(\n",
    "        text_source_dir, name) for name in text_files_list]\n",
    "    \n",
    "    img_files_list = os.listdir(img_source_dir)\n",
    "    img_files_list = sorted(img_files_list)\n",
    "    img_files_dir = [os.path.join(\n",
    "        img_source_dir, name) for name in img_files_list]\n",
    "    \n",
    "    image_files_dir_list = []\n",
    "    for image_file in img_files_dir:\n",
    "        if image_file.endswith('.jpg'):\n",
    "            image_files_dir_list.append(image_file)\n",
    "    image_files_list = []\n",
    "    for image_file_name in img_files_list:\n",
    "        if image_file_name.endswith('.jpg'):\n",
    "            image_files_list.append(image_file_name)\n",
    "    text_files_dir_list = []\n",
    "    for text_file in text_files_dir:\n",
    "        if text_file.endswith('.txt'):\n",
    "            text_files_dir_list.append(text_file)  \n",
    "\n",
    "    for text_file_dir, img_file_dir, img_name in zip(\n",
    "        text_files_dir_list, image_files_dir_list, image_files_list):\n",
    "        txt_file = loadtxt(text_file_dir)\n",
    "        img_file = Image.open(img_file_dir)\n",
    "\n",
    "        if txt_file.ndim == 1:\n",
    "            class_label = txt_file[0]\n",
    "            if class_label == 0: extract_coor(\n",
    "                each_predicted_label, \n",
    "                target_dir, img_name, img_file)\n",
    "            if class_label == 1: extract_coor(\n",
    "                each_predicted_label, \n",
    "                target_dir, img_name, img_file)\n",
    "            if class_label == 2: extract_coor(\n",
    "                each_predicted_label, \n",
    "                target_dir, img_name, img_file)\n",
    "            if class_label == 3: extract_coor(\n",
    "                each_predicted_label, \n",
    "                target_dir, img_name, img_file)\n",
    "\n",
    "        if txt_file.ndim > 1:\n",
    "            for each_predicted_label in txt_file:\n",
    "                class_label = each_predicted_label[0]\n",
    "                if class_label == 0: extract_coor(\n",
    "                    each_predicted_label, \n",
    "                    target_dir, img_name, img_file)\n",
    "                if class_label == 1: extract_coor(\n",
    "                    each_predicted_label, \n",
    "                    target_dir, img_name, img_file)\n",
    "                if class_label == 2: extract_coor(\n",
    "                    each_predicted_label, \n",
    "                    target_dir, img_name, img_file)\n",
    "                if class_label == 3: extract_coor(\n",
    "                    each_predicted_label, \n",
    "                    target_dir, img_name, img_file)"
   ]
  },
  {
   "cell_type": "code",
   "execution_count": 9,
   "metadata": {},
   "outputs": [],
   "source": [
    "base_dir = '/home/ai03/_kunyi/pro_tasi/yolov5_5/datasets/'"
   ]
  },
  {
   "cell_type": "code",
   "execution_count": 10,
   "metadata": {},
   "outputs": [
    {
     "name": "stdout",
     "output_type": "stream",
     "text": [
      "File not exist\n"
     ]
    }
   ],
   "source": [
    "text_source_dir = base_dir + \"labels/no_UB\"\n",
    "img_source_dir = base_dir + \"images/no_UB\"\n",
    "target_dir = base_dir + \"images/no_UB_crop\"\n",
    "crop_img_from_prediction_txt(text_source_dir, \n",
    "                             img_source_dir, target_dir)"
   ]
  },
  {
   "cell_type": "code",
   "execution_count": null,
   "metadata": {},
   "outputs": [],
   "source": []
  }
 ],
 "metadata": {
  "kernelspec": {
   "display_name": "Python 3",
   "language": "python",
   "name": "python3"
  },
  "language_info": {
   "codemirror_mode": {
    "name": "ipython",
    "version": 3
   },
   "file_extension": ".py",
   "mimetype": "text/x-python",
   "name": "python",
   "nbconvert_exporter": "python",
   "pygments_lexer": "ipython3",
   "version": "3.7.4"
  }
 },
 "nbformat": 4,
 "nbformat_minor": 4
}
