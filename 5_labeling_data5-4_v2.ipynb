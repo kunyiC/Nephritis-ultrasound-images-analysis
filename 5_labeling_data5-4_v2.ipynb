{
 "cells": [
  {
   "cell_type": "code",
   "execution_count": 1,
   "metadata": {},
   "outputs": [],
   "source": [
    "import pandas as pd\n",
    "import numpy as np"
   ]
  },
  {
   "cell_type": "code",
   "execution_count": 2,
   "metadata": {},
   "outputs": [],
   "source": [
    "p1 = '/home/ai03/_kunyi/pro_tasi/kidney_labeling_csv/'\n",
    "p1 = p1 + '2014-2019-UTI-renal echo-DMSA-VCUG-亞大.csv'\n",
    "pd1_1 = pd.read_csv(p1)"
   ]
  },
  {
   "cell_type": "code",
   "execution_count": 3,
   "metadata": {},
   "outputs": [
    {
     "data": {
      "text/html": [
       "<div>\n",
       "<style scoped>\n",
       "    .dataframe tbody tr th:only-of-type {\n",
       "        vertical-align: middle;\n",
       "    }\n",
       "\n",
       "    .dataframe tbody tr th {\n",
       "        vertical-align: top;\n",
       "    }\n",
       "\n",
       "    .dataframe thead th {\n",
       "        text-align: right;\n",
       "    }\n",
       "</style>\n",
       "<table border=\"1\" class=\"dataframe\">\n",
       "  <thead>\n",
       "    <tr style=\"text-align: right;\">\n",
       "      <th></th>\n",
       "      <th>病歷號碼</th>\n",
       "      <th>性別</th>\n",
       "      <th>echo</th>\n",
       "      <th>2VOI (VCUG)</th>\n",
       "      <th>NM401 (DMSA)</th>\n",
       "      <th>APN</th>\n",
       "      <th>DMSA_RF</th>\n",
       "      <th>DMSA_LF</th>\n",
       "    </tr>\n",
       "  </thead>\n",
       "  <tbody>\n",
       "    <tr>\n",
       "      <td>0</td>\n",
       "      <td>19505747</td>\n",
       "      <td>F</td>\n",
       "      <td>NaN</td>\n",
       "      <td>Vesicoureteral reflux, right side, grade IV.\\n</td>\n",
       "      <td>Exam Date : 2019/12/11 14:06:57 ( Approved )\\n...</td>\n",
       "      <td>R't APN</td>\n",
       "      <td>45.4</td>\n",
       "      <td>54.6</td>\n",
       "    </tr>\n",
       "    <tr>\n",
       "      <td>1</td>\n",
       "      <td>19661465</td>\n",
       "      <td>M</td>\n",
       "      <td>NaN</td>\n",
       "      <td>NaN</td>\n",
       "      <td>Exam Date : 2019/11/08 11:34:11 ( Approved )\\n...</td>\n",
       "      <td>no APN</td>\n",
       "      <td>53.3</td>\n",
       "      <td>46.7</td>\n",
       "    </tr>\n",
       "    <tr>\n",
       "      <td>2</td>\n",
       "      <td>18948947</td>\n",
       "      <td>M</td>\n",
       "      <td>NaN</td>\n",
       "      <td>1) Vesicoureteral reflux, right side, grade II...</td>\n",
       "      <td>Exam Date : 2019/10/21 11:30:34 ( Approved )\\n...</td>\n",
       "      <td>no APN</td>\n",
       "      <td>49.3</td>\n",
       "      <td>50.7</td>\n",
       "    </tr>\n",
       "    <tr>\n",
       "      <td>3</td>\n",
       "      <td>19599681</td>\n",
       "      <td>F</td>\n",
       "      <td>NaN</td>\n",
       "      <td>NaN</td>\n",
       "      <td>Exam Date : 2019/10/01 10:06:00 ( Approved )\\n...</td>\n",
       "      <td>no APN</td>\n",
       "      <td>52.3</td>\n",
       "      <td>47.7</td>\n",
       "    </tr>\n",
       "    <tr>\n",
       "      <td>4</td>\n",
       "      <td>18687063</td>\n",
       "      <td>M</td>\n",
       "      <td>NaN</td>\n",
       "      <td>NaN</td>\n",
       "      <td>Exam Date : 2019/07/12 10:58:54 ( Approved )\\n...</td>\n",
       "      <td>no APN</td>\n",
       "      <td>50.6</td>\n",
       "      <td>49.4</td>\n",
       "    </tr>\n",
       "  </tbody>\n",
       "</table>\n",
       "</div>"
      ],
      "text/plain": [
       "       病歷號碼 性別  echo                                        2VOI (VCUG)  \\\n",
       "0  19505747  F   NaN     Vesicoureteral reflux, right side, grade IV.\\n   \n",
       "1  19661465  M   NaN                                                NaN   \n",
       "2  18948947  M   NaN  1) Vesicoureteral reflux, right side, grade II...   \n",
       "3  19599681  F   NaN                                                NaN   \n",
       "4  18687063  M   NaN                                                NaN   \n",
       "\n",
       "                                        NM401 (DMSA)      APN  DMSA_RF  \\\n",
       "0  Exam Date : 2019/12/11 14:06:57 ( Approved )\\n...  R't APN     45.4   \n",
       "1  Exam Date : 2019/11/08 11:34:11 ( Approved )\\n...   no APN     53.3   \n",
       "2  Exam Date : 2019/10/21 11:30:34 ( Approved )\\n...   no APN     49.3   \n",
       "3  Exam Date : 2019/10/01 10:06:00 ( Approved )\\n...   no APN     52.3   \n",
       "4  Exam Date : 2019/07/12 10:58:54 ( Approved )\\n...   no APN     50.6   \n",
       "\n",
       "   DMSA_LF  \n",
       "0     54.6  \n",
       "1     46.7  \n",
       "2     50.7  \n",
       "3     47.7  \n",
       "4     49.4  "
      ]
     },
     "execution_count": 3,
     "metadata": {},
     "output_type": "execute_result"
    }
   ],
   "source": [
    "pd1_1.head()"
   ]
  },
  {
   "cell_type": "code",
   "execution_count": 4,
   "metadata": {},
   "outputs": [
    {
     "data": {
      "text/plain": [
       "303"
      ]
     },
     "execution_count": 4,
     "metadata": {},
     "output_type": "execute_result"
    }
   ],
   "source": [
    "pd1_cols1 = pd1_1.columns.tolist()\n",
    "pd1_cols2 = pd1_cols1[0:1] + pd1_cols1[5:6] \n",
    "pd1_2 = pd1_1[pd1_cols2]\n",
    "pd1_2.shape[0]"
   ]
  },
  {
   "cell_type": "code",
   "execution_count": 5,
   "metadata": {},
   "outputs": [
    {
     "data": {
      "text/html": [
       "<div>\n",
       "<style scoped>\n",
       "    .dataframe tbody tr th:only-of-type {\n",
       "        vertical-align: middle;\n",
       "    }\n",
       "\n",
       "    .dataframe tbody tr th {\n",
       "        vertical-align: top;\n",
       "    }\n",
       "\n",
       "    .dataframe thead th {\n",
       "        text-align: right;\n",
       "    }\n",
       "</style>\n",
       "<table border=\"1\" class=\"dataframe\">\n",
       "  <thead>\n",
       "    <tr style=\"text-align: right;\">\n",
       "      <th></th>\n",
       "      <th>病歷號碼</th>\n",
       "      <th>APN</th>\n",
       "    </tr>\n",
       "  </thead>\n",
       "  <tbody>\n",
       "    <tr>\n",
       "      <td>0</td>\n",
       "      <td>19505747</td>\n",
       "      <td>R't APN</td>\n",
       "    </tr>\n",
       "    <tr>\n",
       "      <td>1</td>\n",
       "      <td>19661465</td>\n",
       "      <td>no APN</td>\n",
       "    </tr>\n",
       "    <tr>\n",
       "      <td>2</td>\n",
       "      <td>18948947</td>\n",
       "      <td>no APN</td>\n",
       "    </tr>\n",
       "    <tr>\n",
       "      <td>3</td>\n",
       "      <td>19599681</td>\n",
       "      <td>no APN</td>\n",
       "    </tr>\n",
       "    <tr>\n",
       "      <td>4</td>\n",
       "      <td>18687063</td>\n",
       "      <td>no APN</td>\n",
       "    </tr>\n",
       "    <tr>\n",
       "      <td>...</td>\n",
       "      <td>...</td>\n",
       "      <td>...</td>\n",
       "    </tr>\n",
       "    <tr>\n",
       "      <td>298</td>\n",
       "      <td>15628425</td>\n",
       "      <td>NaN</td>\n",
       "    </tr>\n",
       "    <tr>\n",
       "      <td>299</td>\n",
       "      <td>15564952</td>\n",
       "      <td>NaN</td>\n",
       "    </tr>\n",
       "    <tr>\n",
       "      <td>300</td>\n",
       "      <td>15553304</td>\n",
       "      <td>NaN</td>\n",
       "    </tr>\n",
       "    <tr>\n",
       "      <td>301</td>\n",
       "      <td>14350227</td>\n",
       "      <td>NaN</td>\n",
       "    </tr>\n",
       "    <tr>\n",
       "      <td>302</td>\n",
       "      <td>15534115</td>\n",
       "      <td>NaN</td>\n",
       "    </tr>\n",
       "  </tbody>\n",
       "</table>\n",
       "<p>303 rows × 2 columns</p>\n",
       "</div>"
      ],
      "text/plain": [
       "         病歷號碼      APN\n",
       "0    19505747  R't APN\n",
       "1    19661465   no APN\n",
       "2    18948947   no APN\n",
       "3    19599681   no APN\n",
       "4    18687063   no APN\n",
       "..        ...      ...\n",
       "298  15628425      NaN\n",
       "299  15564952      NaN\n",
       "300  15553304      NaN\n",
       "301  14350227      NaN\n",
       "302  15534115      NaN\n",
       "\n",
       "[303 rows x 2 columns]"
      ]
     },
     "execution_count": 5,
     "metadata": {},
     "output_type": "execute_result"
    }
   ],
   "source": [
    "pd1_2"
   ]
  },
  {
   "cell_type": "code",
   "execution_count": 6,
   "metadata": {},
   "outputs": [
    {
     "data": {
      "text/plain": [
       "156"
      ]
     },
     "execution_count": 6,
     "metadata": {},
     "output_type": "execute_result"
    }
   ],
   "source": [
    "pd1_3 = pd1_2.dropna()\n",
    "pd1_3.shape[0]"
   ]
  },
  {
   "cell_type": "code",
   "execution_count": 7,
   "metadata": {},
   "outputs": [
    {
     "data": {
      "text/html": [
       "<div>\n",
       "<style scoped>\n",
       "    .dataframe tbody tr th:only-of-type {\n",
       "        vertical-align: middle;\n",
       "    }\n",
       "\n",
       "    .dataframe tbody tr th {\n",
       "        vertical-align: top;\n",
       "    }\n",
       "\n",
       "    .dataframe thead th {\n",
       "        text-align: right;\n",
       "    }\n",
       "</style>\n",
       "<table border=\"1\" class=\"dataframe\">\n",
       "  <thead>\n",
       "    <tr style=\"text-align: right;\">\n",
       "      <th></th>\n",
       "      <th>病歷號碼</th>\n",
       "      <th>APN</th>\n",
       "    </tr>\n",
       "  </thead>\n",
       "  <tbody>\n",
       "    <tr>\n",
       "      <td>0</td>\n",
       "      <td>19505747</td>\n",
       "      <td>R't APN</td>\n",
       "    </tr>\n",
       "    <tr>\n",
       "      <td>1</td>\n",
       "      <td>19661465</td>\n",
       "      <td>no APN</td>\n",
       "    </tr>\n",
       "    <tr>\n",
       "      <td>2</td>\n",
       "      <td>18948947</td>\n",
       "      <td>no APN</td>\n",
       "    </tr>\n",
       "    <tr>\n",
       "      <td>3</td>\n",
       "      <td>19599681</td>\n",
       "      <td>no APN</td>\n",
       "    </tr>\n",
       "    <tr>\n",
       "      <td>4</td>\n",
       "      <td>18687063</td>\n",
       "      <td>no APN</td>\n",
       "    </tr>\n",
       "    <tr>\n",
       "      <td>...</td>\n",
       "      <td>...</td>\n",
       "      <td>...</td>\n",
       "    </tr>\n",
       "    <tr>\n",
       "      <td>152</td>\n",
       "      <td>17560943</td>\n",
       "      <td>Bil APN</td>\n",
       "    </tr>\n",
       "    <tr>\n",
       "      <td>153</td>\n",
       "      <td>17555940</td>\n",
       "      <td>Bil APN</td>\n",
       "    </tr>\n",
       "    <tr>\n",
       "      <td>154</td>\n",
       "      <td>17548598</td>\n",
       "      <td>L't APN</td>\n",
       "    </tr>\n",
       "    <tr>\n",
       "      <td>155</td>\n",
       "      <td>17534904</td>\n",
       "      <td>Bil APN</td>\n",
       "    </tr>\n",
       "    <tr>\n",
       "      <td>156</td>\n",
       "      <td>17527484</td>\n",
       "      <td>no APN</td>\n",
       "    </tr>\n",
       "  </tbody>\n",
       "</table>\n",
       "<p>156 rows × 2 columns</p>\n",
       "</div>"
      ],
      "text/plain": [
       "         病歷號碼      APN\n",
       "0    19505747  R't APN\n",
       "1    19661465   no APN\n",
       "2    18948947   no APN\n",
       "3    19599681   no APN\n",
       "4    18687063   no APN\n",
       "..        ...      ...\n",
       "152  17560943  Bil APN\n",
       "153  17555940  Bil APN\n",
       "154  17548598  L't APN\n",
       "155  17534904  Bil APN\n",
       "156  17527484   no APN\n",
       "\n",
       "[156 rows x 2 columns]"
      ]
     },
     "execution_count": 7,
     "metadata": {},
     "output_type": "execute_result"
    }
   ],
   "source": [
    "pd1_3"
   ]
  },
  {
   "cell_type": "code",
   "execution_count": 8,
   "metadata": {},
   "outputs": [],
   "source": [
    "import os \n",
    "from PIL import Image \n",
    "import pathlib"
   ]
  },
  {
   "cell_type": "code",
   "execution_count": 9,
   "metadata": {},
   "outputs": [],
   "source": [
    "def check_if_file_exist(target_dir):\n",
    "    file = pathlib.Path(target_dir)\n",
    "    if file.exists():\n",
    "        print (\"File exist\")\n",
    "    else:\n",
    "        print (\"File not exist\")\n",
    "        os.makedirs(target_dir)"
   ]
  },
  {
   "cell_type": "code",
   "execution_count": 10,
   "metadata": {},
   "outputs": [],
   "source": [
    "def img_labeling(img_source_dir, target_dir):\n",
    "    files_list = os.listdir(img_source_dir)\n",
    "    files_dir = [os.path.join(\n",
    "        img_source_dir, name) for name in files_list]\n",
    "    for i in range(0, pd1_3.shape[0]):\n",
    "        h_id = pd1_3.iloc[i, 0]\n",
    "        apn = pd1_3.iloc[i, 1]\n",
    "\n",
    "        for img_file, img_name in zip(files_dir, files_list):\n",
    "            if str(h_id) == img_name[0:8]:\n",
    "                image = Image.open(img_file)\n",
    "\n",
    "                if apn == 'no APN':\n",
    "                    label = 0\n",
    "                    f_img_name = img_name[0:-4]+'[{}].jpg'.format(label)      \n",
    "\n",
    "                if apn == 'Bil APN':\n",
    "                    label = 1\n",
    "                    f_img_name = img_name[0:-4]+'[{}].jpg'.format(label)   \n",
    "\n",
    "                if apn == \"L't APN\":\n",
    "                    if img_name[18:19] == 'R':\n",
    "                        label = 0\n",
    "                        f_img_name = img_name[0:-4]+'[{}].jpg'.format(label)      \n",
    "                    if img_name[18:19] == 'L':\n",
    "                        label = 1\n",
    "                        f_img_name = img_name[0:-4]+'[{}].jpg'.format(label)      \n",
    "\n",
    "                if apn == \"R't APN\":\n",
    "                    if img_name[18:19] == 'R':\n",
    "                        label = 1\n",
    "                        f_img_name = img_name[0:-4]+'[{}].jpg'.format(label)      \n",
    "                    if img_name[18:19] == 'L':\n",
    "                        label = 0\n",
    "                        f_img_name = img_name[0:-4]+'[{}].jpg'.format(label)      \n",
    "\n",
    "                image.save(target_dir+\"/\"+f_img_name)"
   ]
  },
  {
   "cell_type": "code",
   "execution_count": 11,
   "metadata": {},
   "outputs": [],
   "source": [
    "base_dir = '/home/ai03/_kunyi/pro_tasi/yolov5_4_v2/datasets/'"
   ]
  },
  {
   "cell_type": "code",
   "execution_count": 12,
   "metadata": {},
   "outputs": [
    {
     "name": "stdout",
     "output_type": "stream",
     "text": [
      "File not exist\n"
     ]
    }
   ],
   "source": [
    "img_source_dir = base_dir + \"images/no_UB_crop_LtRt_hw\"\n",
    "target_dir = base_dir + \"images/no_UB_crop_LtRt_hw_labeling\"\n",
    "check_if_file_exist(target_dir)\n",
    "img_labeling(img_source_dir, target_dir)"
   ]
  },
  {
   "cell_type": "code",
   "execution_count": 13,
   "metadata": {},
   "outputs": [
    {
     "name": "stdout",
     "output_type": "stream",
     "text": [
      "File not exist\n"
     ]
    }
   ],
   "source": [
    "img_source_dir = base_dir + \"images/no_UB_crop_LlRl_hw\"\n",
    "target_dir = base_dir + \"images/no_UB_crop_LlRl_hw_labeling\"\n",
    "check_if_file_exist(target_dir)\n",
    "img_labeling(img_source_dir, target_dir)"
   ]
  },
  {
   "cell_type": "code",
   "execution_count": null,
   "metadata": {},
   "outputs": [],
   "source": []
  },
  {
   "cell_type": "code",
   "execution_count": null,
   "metadata": {},
   "outputs": [],
   "source": []
  },
  {
   "cell_type": "code",
   "execution_count": null,
   "metadata": {},
   "outputs": [],
   "source": []
  },
  {
   "cell_type": "code",
   "execution_count": null,
   "metadata": {},
   "outputs": [],
   "source": []
  },
  {
   "cell_type": "code",
   "execution_count": null,
   "metadata": {},
   "outputs": [],
   "source": []
  }
 ],
 "metadata": {
  "kernelspec": {
   "display_name": "Python 3",
   "language": "python",
   "name": "python3"
  },
  "language_info": {
   "codemirror_mode": {
    "name": "ipython",
    "version": 3
   },
   "file_extension": ".py",
   "mimetype": "text/x-python",
   "name": "python",
   "nbconvert_exporter": "python",
   "pygments_lexer": "ipython3",
   "version": "3.7.4"
  }
 },
 "nbformat": 4,
 "nbformat_minor": 2
}
