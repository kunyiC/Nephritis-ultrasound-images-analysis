{
 "cells": [
  {
   "cell_type": "code",
   "execution_count": 6,
   "metadata": {},
   "outputs": [],
   "source": [
    "import os\n",
    "import pathlib\n",
    "from PIL import Image\n",
    "\n",
    "def check_if_file_exist(target_dir):\n",
    "    file = pathlib.Path(target_dir)\n",
    "    if file.exists():\n",
    "        print (\"File exist\")\n",
    "    else:\n",
    "        print (\"File not exist\")\n",
    "        os.makedirs(target_dir)"
   ]
  },
  {
   "cell_type": "code",
   "execution_count": 7,
   "metadata": {},
   "outputs": [],
   "source": [
    "## split cropped img into LlRl LtRt\n",
    "def img_split(img_source_dir, target_dir, matchers):\n",
    "    \n",
    "    check_if_file_exist(target_dir)\n",
    "    img_files_list1 = os.listdir(img_source_dir)\n",
    "    img_dir_list1 = [os.path.join(\n",
    "        img_source_dir, name) for name in img_files_list1]\n",
    "\n",
    "    img_dir_matches = [s for s in img_dir_list1 if any(\n",
    "        xs in s for xs in matchers)]\n",
    "    img_name_matches = [s for s in img_files_list1 if any(\n",
    "        xs in s for xs in matchers)]\n",
    "\n",
    "    for each_img, img_name in zip(\n",
    "        img_dir_matches, img_name_matches):\n",
    "        img = Image.open(each_img)\n",
    "        img.save(target_dir+\"/\"+img_name)"
   ]
  },
  {
   "cell_type": "code",
   "execution_count": 8,
   "metadata": {},
   "outputs": [],
   "source": [
    "base_dir = '/home/ai03/_kunyi/pro_tasi/yolov5_5/datasets/'\n",
    "img_source_dir = base_dir + 'images/no_UB_crop'"
   ]
  },
  {
   "cell_type": "code",
   "execution_count": 9,
   "metadata": {},
   "outputs": [
    {
     "name": "stdout",
     "output_type": "stream",
     "text": [
      "File not exist\n"
     ]
    }
   ],
   "source": [
    "target_dir = base_dir + 'images/no_UB_crop_LlRl'\n",
    "matchers = ['LL','RL']\n",
    "img_split(img_source_dir, target_dir, matchers)"
   ]
  },
  {
   "cell_type": "code",
   "execution_count": 10,
   "metadata": {},
   "outputs": [
    {
     "name": "stdout",
     "output_type": "stream",
     "text": [
      "File not exist\n"
     ]
    }
   ],
   "source": [
    "target_dir = base_dir + 'images/no_UB_crop_LtRt'\n",
    "matchers = ['LT','RT']\n",
    "img_split(img_source_dir, target_dir, matchers)"
   ]
  },
  {
   "cell_type": "code",
   "execution_count": null,
   "metadata": {},
   "outputs": [],
   "source": []
  },
  {
   "cell_type": "code",
   "execution_count": null,
   "metadata": {},
   "outputs": [],
   "source": []
  },
  {
   "cell_type": "code",
   "execution_count": null,
   "metadata": {},
   "outputs": [],
   "source": []
  },
  {
   "cell_type": "code",
   "execution_count": null,
   "metadata": {},
   "outputs": [],
   "source": []
  }
 ],
 "metadata": {
  "kernelspec": {
   "display_name": "Python 3",
   "language": "python",
   "name": "python3"
  },
  "language_info": {
   "codemirror_mode": {
    "name": "ipython",
    "version": 3
   },
   "file_extension": ".py",
   "mimetype": "text/x-python",
   "name": "python",
   "nbconvert_exporter": "python",
   "pygments_lexer": "ipython3",
   "version": "3.7.4"
  }
 },
 "nbformat": 4,
 "nbformat_minor": 2
}
