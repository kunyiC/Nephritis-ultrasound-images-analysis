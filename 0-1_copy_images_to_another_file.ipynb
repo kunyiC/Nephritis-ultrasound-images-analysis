{
 "cells": [
  {
   "cell_type": "code",
   "execution_count": 1,
   "metadata": {},
   "outputs": [],
   "source": [
    "import pathlib\n",
    "\n",
    "def check_if_file_exist(target_dir):\n",
    "    file = pathlib.Path(target_dir)\n",
    "    if file.exists():\n",
    "        print (\"File exist\")\n",
    "    else:\n",
    "        print (\"File not exist\")\n",
    "        os.makedirs(target_dir)"
   ]
  },
  {
   "cell_type": "code",
   "execution_count": 2,
   "metadata": {},
   "outputs": [],
   "source": [
    "import os \n",
    "from PIL import Image \n",
    "\n",
    "def copy_file(source_dir, target_dir):\n",
    "    check_if_file_exist(target_dir)\n",
    "    files_list = os.listdir(source_dir)\n",
    "    files_dir = [os.path.join(source_dir, \n",
    "                              name) for name in files_list]\n",
    "    #os.makedirs(target_dir)\n",
    "    for img_file in files_dir:\n",
    "        for img_name in os.listdir(img_file):\n",
    "            img_dir = os.path.join(img_file, img_name)\n",
    "            if img_dir.endswith('.tif'):\n",
    "                image = Image.open(img_dir)\n",
    "                #image_copied = image.copy()\n",
    "                image.save(target_dir+\"/\"+img_name)\n",
    "    print(\"finish\")"
   ]
  },
  {
   "cell_type": "code",
   "execution_count": 3,
   "metadata": {},
   "outputs": [],
   "source": [
    "base_dir = \"/home/ai03/_kunyi/pro_tasi/ultrasound_kidney_datasets/\"\n",
    "source_dir = base_dir + \"original_datasets/成大超音波影像檔1 (159筆)2\"\n",
    "target_dir = base_dir + \"changed_datasets_1_make_all_imgs_in_one_file/kidney_dataset_6_all_imgs_in_one_folder\""
   ]
  },
  {
   "cell_type": "code",
   "execution_count": 4,
   "metadata": {},
   "outputs": [
    {
     "name": "stdout",
     "output_type": "stream",
     "text": [
      "File not exist\n",
      "finish\n"
     ]
    }
   ],
   "source": [
    "copy_file(source_dir, target_dir)"
   ]
  },
  {
   "cell_type": "code",
   "execution_count": 5,
   "metadata": {},
   "outputs": [],
   "source": [
    "# base_dir = \"D:/ultrasound_kidney_datasets/\"\n",
    "# source_dir = base_dir + \"original_datasets/kidney_ultrasound_data2\"\n",
    "# target_dir = base_dir + \"changed_datasets/kidney_dataset_2_all_imgs_in_one_folder\""
   ]
  },
  {
   "cell_type": "code",
   "execution_count": 6,
   "metadata": {},
   "outputs": [],
   "source": [
    "# copy_file(source_dir, target_dir)"
   ]
  },
  {
   "cell_type": "code",
   "execution_count": null,
   "metadata": {},
   "outputs": [],
   "source": []
  }
 ],
 "metadata": {
  "kernelspec": {
   "display_name": "Python 3",
   "language": "python",
   "name": "python3"
  },
  "language_info": {
   "codemirror_mode": {
    "name": "ipython",
    "version": 3
   },
   "file_extension": ".py",
   "mimetype": "text/x-python",
   "name": "python",
   "nbconvert_exporter": "python",
   "pygments_lexer": "ipython3",
   "version": "3.7.4"
  }
 },
 "nbformat": 4,
 "nbformat_minor": 4
}
