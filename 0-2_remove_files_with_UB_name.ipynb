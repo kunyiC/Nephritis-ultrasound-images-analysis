{
 "cells": [
  {
   "cell_type": "code",
   "execution_count": 1,
   "metadata": {},
   "outputs": [],
   "source": [
    "base_dir = \"/home/ai03/_kunyi/pro_tasi/ultrasound_kidney_datasets/\"\n",
    "source_dir = base_dir + \"changed_datasets_1_make_all_imgs_in_one_file/kidney_dataset_6_all_imgs_in_one_folder\"\n",
    "dst_dir = base_dir + \"changed_datasets_1_make_all_imgs_in_one_file/kidney_dataset_6_all_imgs_in_one_folder_no_UB\""
   ]
  },
  {
   "cell_type": "code",
   "execution_count": 2,
   "metadata": {},
   "outputs": [],
   "source": [
    "# copyfile\n",
    "from shutil import copytree\n",
    "destination = copytree(source_dir, dst_dir)"
   ]
  },
  {
   "cell_type": "code",
   "execution_count": 3,
   "metadata": {},
   "outputs": [],
   "source": [
    "import os \n",
    "files_list = os.listdir(dst_dir)\n",
    "files_dir = [os.path.join(\n",
    "    dst_dir, name) for name in files_list]"
   ]
  },
  {
   "cell_type": "code",
   "execution_count": 4,
   "metadata": {},
   "outputs": [
    {
     "data": {
      "text/plain": [
       "729"
      ]
     },
     "execution_count": 4,
     "metadata": {},
     "output_type": "execute_result"
    }
   ],
   "source": [
    "len(files_dir)"
   ]
  },
  {
   "cell_type": "code",
   "execution_count": 5,
   "metadata": {},
   "outputs": [
    {
     "data": {
      "text/plain": [
       "149"
      ]
     },
     "execution_count": 5,
     "metadata": {},
     "output_type": "execute_result"
    }
   ],
   "source": [
    "UB_list1 = []\n",
    "for file in files_list:\n",
    "    if 'UB' in file:\n",
    "        UB_list1.append(file)\n",
    "len(UB_list1)"
   ]
  },
  {
   "cell_type": "code",
   "execution_count": 6,
   "metadata": {},
   "outputs": [
    {
     "data": {
      "text/plain": [
       "149"
      ]
     },
     "execution_count": 6,
     "metadata": {},
     "output_type": "execute_result"
    }
   ],
   "source": [
    "UB_list2 = []\n",
    "for file_dir, file_name in zip(\n",
    "    files_dir, files_list):\n",
    "    if 'UB' in file_name:\n",
    "        UB_list2.append(file_name)\n",
    "        os.remove(file_dir)\n",
    "len(UB_list2)"
   ]
  },
  {
   "cell_type": "code",
   "execution_count": 7,
   "metadata": {},
   "outputs": [
    {
     "data": {
      "text/plain": [
       "580"
      ]
     },
     "execution_count": 7,
     "metadata": {},
     "output_type": "execute_result"
    }
   ],
   "source": [
    "len(files_dir) - len(UB_list2)"
   ]
  },
  {
   "cell_type": "code",
   "execution_count": null,
   "metadata": {},
   "outputs": [],
   "source": []
  }
 ],
 "metadata": {
  "kernelspec": {
   "display_name": "Python 3",
   "language": "python",
   "name": "python3"
  },
  "language_info": {
   "codemirror_mode": {
    "name": "ipython",
    "version": 3
   },
   "file_extension": ".py",
   "mimetype": "text/x-python",
   "name": "python",
   "nbconvert_exporter": "python",
   "pygments_lexer": "ipython3",
   "version": "3.7.4"
  }
 },
 "nbformat": 4,
 "nbformat_minor": 4
}
